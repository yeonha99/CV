{
  "nbformat": 4,
  "nbformat_minor": 0,
  "metadata": {
    "colab": {
      "name": "DANN.ipynb",
      "private_outputs": true,
      "provenance": [],
      "authorship_tag": "ABX9TyM/32LsgIXVgl1j8r615+NX",
      "include_colab_link": true
    },
    "kernelspec": {
      "name": "python3",
      "display_name": "Python 3"
    },
    "accelerator": "GPU"
  },
  "cells": [
    {
      "cell_type": "markdown",
      "metadata": {
        "id": "view-in-github",
        "colab_type": "text"
      },
      "source": [
        "<a href=\"https://colab.research.google.com/github/yeonha99/CV/blob/main/DANN.ipynb\" target=\"_parent\"><img src=\"https://colab.research.google.com/assets/colab-badge.svg\" alt=\"Open In Colab\"/></a>"
      ]
    },
    {
      "cell_type": "code",
      "metadata": {
        "id": "PgkX4DfcTBSu"
      },
      "source": [
        "import sys\r\n",
        "print(sys.version)"
      ],
      "execution_count": null,
      "outputs": []
    },
    {
      "cell_type": "code",
      "metadata": {
        "id": "C6ex14deUU5r"
      },
      "source": [
        "!git clone https://github.com/fungtion/DANN_py3.git"
      ],
      "execution_count": null,
      "outputs": []
    },
    {
      "cell_type": "markdown",
      "metadata": {
        "id": "hTvxTSbuUtqf"
      },
      "source": [
        "git의 코드를 clone해왔다."
      ]
    },
    {
      "cell_type": "code",
      "metadata": {
        "id": "sVo4ZvrqUswl"
      },
      "source": [
        "!mv /content/mnist_m_train /content/DANN_py3/dataset/mnist_m"
      ],
      "execution_count": null,
      "outputs": []
    },
    {
      "cell_type": "code",
      "metadata": {
        "id": "BCD35DzBYwAy"
      },
      "source": [
        "!unzip /content/DANN_py3/dataset/mnist_m/mnist_m_test.zip /content/DANN_py3/dataset/mnist_m/mnist_m_test"
      ],
      "execution_count": null,
      "outputs": []
    },
    {
      "cell_type": "code",
      "metadata": {
        "id": "p0lzbi77hp3K"
      },
      "source": [
        ""
      ],
      "execution_count": null,
      "outputs": []
    },
    {
      "cell_type": "code",
      "metadata": {
        "id": "EgawR7nMXyEG"
      },
      "source": [
        "!python /content/DANN_py3/main.py"
      ],
      "execution_count": null,
      "outputs": []
    }
  ]
}